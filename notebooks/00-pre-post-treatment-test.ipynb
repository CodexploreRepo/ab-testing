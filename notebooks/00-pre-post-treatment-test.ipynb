{
 "cells": [
  {
   "cell_type": "markdown",
   "metadata": {},
   "source": [
    "# Pre vs Post Treatment Tests\n",
    "- **Objective**: This test compares two states of the samples: before and after an intervention or treatment has been applied.\n",
    "- Reference: \n",
    "    - [My Easy Guide to Pre vs. Post Treatment Tests](https://towardsdatascience.com/my-easy-guide-to-pre-vs-post-treatment-tests-0206f56f83a4)\n",
    "## Problem Statement\n",
    "- A grocery store chain observes a spike in some brands of coffee and wants to test whether it increases sales or not if they double the facings of these new best-performing brands to the customer.\n",
    "    - Hence, they will select some stores at random as a treatment group and make that change.\n",
    "- Summarizing\n",
    "    - **Control Group**: Stores without change in the coffee section\n",
    "    - **Treatment Group**: Stores with the redesigned coffee section\n",
    "    - **Pre-Period**: a period before the intervention. \n",
    "        - The size of this period must be chosen taking into consideration the seasonality of the business and any other aspects that can affect the results, like sales, promotions, holidays, and weekends.\n",
    "    - **Post Period**: the period after the intervention. The same is true for determining the size of the period\n",
    "- Hypothesis:\n",
    "    - Ho says that the treatment is not effective\n",
    "    - Ha says that it is effective."
   ]
  },
  {
   "cell_type": "code",
   "execution_count": 2,
   "metadata": {},
   "outputs": [],
   "source": [
    "import numpy as np\n",
    "import pandas as pd\n",
    "import scipy.stats as scs"
   ]
  },
  {
   "cell_type": "markdown",
   "metadata": {},
   "source": [
    "## Dataset\n",
    "- To simulate a situation of Pre-Post intervention."
   ]
  },
  {
   "cell_type": "code",
   "execution_count": 11,
   "metadata": {},
   "outputs": [
    {
     "data": {
      "text/html": [
       "<div>\n",
       "<style scoped>\n",
       "    .dataframe tbody tr th:only-of-type {\n",
       "        vertical-align: middle;\n",
       "    }\n",
       "\n",
       "    .dataframe tbody tr th {\n",
       "        vertical-align: top;\n",
       "    }\n",
       "\n",
       "    .dataframe thead th {\n",
       "        text-align: right;\n",
       "    }\n",
       "</style>\n",
       "<table border=\"1\" class=\"dataframe\">\n",
       "  <thead>\n",
       "    <tr style=\"text-align: right;\">\n",
       "      <th></th>\n",
       "      <th>dt</th>\n",
       "      <th>store_id</th>\n",
       "      <th>group</th>\n",
       "      <th>sales</th>\n",
       "    </tr>\n",
       "  </thead>\n",
       "  <tbody>\n",
       "    <tr>\n",
       "      <th>1112</th>\n",
       "      <td>2024-01-03</td>\n",
       "      <td>113</td>\n",
       "      <td>Treatment</td>\n",
       "      <td>93.022960</td>\n",
       "    </tr>\n",
       "    <tr>\n",
       "      <th>23432</th>\n",
       "      <td>2024-01-03</td>\n",
       "      <td>433</td>\n",
       "      <td>Treatment</td>\n",
       "      <td>128.985849</td>\n",
       "    </tr>\n",
       "    <tr>\n",
       "      <th>27555</th>\n",
       "      <td>2024-01-16</td>\n",
       "      <td>556</td>\n",
       "      <td>Control</td>\n",
       "      <td>85.306578</td>\n",
       "    </tr>\n",
       "    <tr>\n",
       "      <th>619</th>\n",
       "      <td>2024-01-20</td>\n",
       "      <td>620</td>\n",
       "      <td>Treatment</td>\n",
       "      <td>115.289692</td>\n",
       "    </tr>\n",
       "    <tr>\n",
       "      <th>4012</th>\n",
       "      <td>2024-01-23</td>\n",
       "      <td>13</td>\n",
       "      <td>Treatment</td>\n",
       "      <td>109.965434</td>\n",
       "    </tr>\n",
       "    <tr>\n",
       "      <th>7494</th>\n",
       "      <td>2024-01-25</td>\n",
       "      <td>495</td>\n",
       "      <td>Control</td>\n",
       "      <td>78.300640</td>\n",
       "    </tr>\n",
       "    <tr>\n",
       "      <th>1794</th>\n",
       "      <td>2024-01-25</td>\n",
       "      <td>795</td>\n",
       "      <td>Control</td>\n",
       "      <td>93.938146</td>\n",
       "    </tr>\n",
       "    <tr>\n",
       "      <th>9898</th>\n",
       "      <td>2024-01-29</td>\n",
       "      <td>899</td>\n",
       "      <td>Control</td>\n",
       "      <td>83.073060</td>\n",
       "    </tr>\n",
       "  </tbody>\n",
       "</table>\n",
       "</div>"
      ],
      "text/plain": [
       "              dt  store_id      group       sales\n",
       "1112  2024-01-03       113  Treatment   93.022960\n",
       "23432 2024-01-03       433  Treatment  128.985849\n",
       "27555 2024-01-16       556    Control   85.306578\n",
       "619   2024-01-20       620  Treatment  115.289692\n",
       "4012  2024-01-23        13  Treatment  109.965434\n",
       "7494  2024-01-25       495    Control   78.300640\n",
       "1794  2024-01-25       795    Control   93.938146\n",
       "9898  2024-01-29       899    Control   83.073060"
      ]
     },
     "execution_count": 11,
     "metadata": {},
     "output_type": "execute_result"
    }
   ],
   "source": [
    "# Date: \n",
    "dates = pd.date_range(start='2024-01-01', end='2024-01-30')\n",
    "\n",
    "# Stores IDs: 1000 stores in total\n",
    "store_ids = range(1,1001,1)\n",
    "\n",
    "# Control and Treat Group\n",
    "np.random.seed(42)\n",
    "group = np.random.choice(a=['Control', 'Treatment'], size=len(store_ids), p=[0.50, 0.50])\n",
    "\n",
    "# Create dataframe: 1000 stores with 30 days - daily revenue\n",
    "df = pd.DataFrame({'dt': list(dates)*1000,'store_id': list(store_ids)*30, 'group':list(group)*30})\n",
    "\n",
    "# Sales Control and Treatment\n",
    "sales_control = np.random.normal(loc=100, scale=20, size=len(df[df['group'] == 'Control']))\n",
    "sales_treatment_before = np.random.normal(loc=100, scale=20, size=len(df[(df.group == 'Treatment') & (df.dt <= '2024-01-15')]) )\n",
    "# after, the mean (loc=104) increases, and the scale=10 reduces vs before as the revenue is more compact\n",
    "sales_treatment_after = np.random.normal(loc=104, scale=10, size=len(df[(df.group == \"Treatment\") & (df.dt > \"2024-01-15\")]))\n",
    "\n",
    "# Add sales to the data\n",
    "df = df.sort_values(['group', 'dt'])\n",
    "df['sales'] = np.concatenate([sales_control, sales_treatment_before, sales_treatment_after])\n",
    "df = df.sort_values(['dt', 'store_id'])\n",
    "\n",
    "# View Dataset\n",
    "df.sample(8).sort_values(['dt', 'store_id'])"
   ]
  },
  {
   "cell_type": "markdown",
   "metadata": {},
   "source": [
    "## Power Analysis\n",
    "- Find the size of the sample"
   ]
  },
  {
   "cell_type": "code",
   "execution_count": 8,
   "metadata": {},
   "outputs": [
    {
     "name": "stdout",
     "output_type": "stream",
     "text": [
      "393.4056989990348\n"
     ]
    }
   ],
   "source": [
    "from statsmodels.stats.power import TTestIndPower\n",
    "\n",
    "# Parameter for the power analysis\n",
    "effect = 0.2 # effect size must be positive\n",
    "alpha = 0.05\n",
    "power = 0.8\n",
    "\n",
    "# Perform power analysis\n",
    "pwr = TTestIndPower()\n",
    "\n",
    "result = pwr.solve_power(effect, power = power, nobs1= None, \n",
    "                         ratio = 1, alpha=alpha)\n",
    "\n",
    "print(result)"
   ]
  },
  {
   "cell_type": "markdown",
   "metadata": {},
   "source": [
    "- Since we have around 500 stores in each group, we’re covered."
   ]
  },
  {
   "cell_type": "markdown",
   "metadata": {},
   "source": [
    "## Data Pre-processing\n",
    "- Cut-off time between Pre and Post periods is on 2024–01–15"
   ]
  },
  {
   "cell_type": "code",
   "execution_count": 9,
   "metadata": {},
   "outputs": [
    {
     "data": {
      "text/html": [
       "<div>\n",
       "<style scoped>\n",
       "    .dataframe tbody tr th:only-of-type {\n",
       "        vertical-align: middle;\n",
       "    }\n",
       "\n",
       "    .dataframe tbody tr th {\n",
       "        vertical-align: top;\n",
       "    }\n",
       "\n",
       "    .dataframe thead th {\n",
       "        text-align: right;\n",
       "    }\n",
       "</style>\n",
       "<table border=\"1\" class=\"dataframe\">\n",
       "  <thead>\n",
       "    <tr style=\"text-align: right;\">\n",
       "      <th></th>\n",
       "      <th>sales</th>\n",
       "    </tr>\n",
       "    <tr>\n",
       "      <th>group</th>\n",
       "      <th></th>\n",
       "    </tr>\n",
       "  </thead>\n",
       "  <tbody>\n",
       "    <tr>\n",
       "      <th>Control</th>\n",
       "      <td>100.032725</td>\n",
       "    </tr>\n",
       "    <tr>\n",
       "      <th>Treatment</th>\n",
       "      <td>102.014091</td>\n",
       "    </tr>\n",
       "  </tbody>\n",
       "</table>\n",
       "</div>"
      ],
      "text/plain": [
       "                sales\n",
       "group                \n",
       "Control    100.032725\n",
       "Treatment  102.014091"
      ]
     },
     "execution_count": 9,
     "metadata": {},
     "output_type": "execute_result"
    }
   ],
   "source": [
    "# Difference between groups\n",
    "df.groupby('group')[[\"sales\"]].mean()"
   ]
  },
  {
   "cell_type": "code",
   "execution_count": 13,
   "metadata": {},
   "outputs": [
    {
     "data": {
      "text/html": [
       "<div>\n",
       "<style scoped>\n",
       "    .dataframe tbody tr th:only-of-type {\n",
       "        vertical-align: middle;\n",
       "    }\n",
       "\n",
       "    .dataframe tbody tr th {\n",
       "        vertical-align: top;\n",
       "    }\n",
       "\n",
       "    .dataframe thead th {\n",
       "        text-align: right;\n",
       "    }\n",
       "</style>\n",
       "<table border=\"1\" class=\"dataframe\">\n",
       "  <thead>\n",
       "    <tr style=\"text-align: right;\">\n",
       "      <th>after</th>\n",
       "      <th>store_id</th>\n",
       "      <th>group</th>\n",
       "      <th>pre</th>\n",
       "      <th>post</th>\n",
       "      <th>dif_pp</th>\n",
       "    </tr>\n",
       "  </thead>\n",
       "  <tbody>\n",
       "    <tr>\n",
       "      <th>0</th>\n",
       "      <td>1</td>\n",
       "      <td>Control</td>\n",
       "      <td>98.146780</td>\n",
       "      <td>108.272529</td>\n",
       "      <td>10.125749</td>\n",
       "    </tr>\n",
       "    <tr>\n",
       "      <th>1</th>\n",
       "      <td>2</td>\n",
       "      <td>Treatment</td>\n",
       "      <td>103.114093</td>\n",
       "      <td>100.591466</td>\n",
       "      <td>-2.522627</td>\n",
       "    </tr>\n",
       "    <tr>\n",
       "      <th>2</th>\n",
       "      <td>3</td>\n",
       "      <td>Treatment</td>\n",
       "      <td>106.356929</td>\n",
       "      <td>103.304819</td>\n",
       "      <td>-3.052110</td>\n",
       "    </tr>\n",
       "    <tr>\n",
       "      <th>3</th>\n",
       "      <td>4</td>\n",
       "      <td>Treatment</td>\n",
       "      <td>89.385473</td>\n",
       "      <td>107.779255</td>\n",
       "      <td>18.393783</td>\n",
       "    </tr>\n",
       "    <tr>\n",
       "      <th>4</th>\n",
       "      <td>5</td>\n",
       "      <td>Control</td>\n",
       "      <td>97.796140</td>\n",
       "      <td>94.102268</td>\n",
       "      <td>-3.693872</td>\n",
       "    </tr>\n",
       "  </tbody>\n",
       "</table>\n",
       "</div>"
      ],
      "text/plain": [
       "after  store_id      group         pre        post     dif_pp\n",
       "0             1    Control   98.146780  108.272529  10.125749\n",
       "1             2  Treatment  103.114093  100.591466  -2.522627\n",
       "2             3  Treatment  106.356929  103.304819  -3.052110\n",
       "3             4  Treatment   89.385473  107.779255  18.393783\n",
       "4             5    Control   97.796140   94.102268  -3.693872"
      ]
     },
     "execution_count": 13,
     "metadata": {},
     "output_type": "execute_result"
    }
   ],
   "source": [
    "# split between Pre and Post periods\n",
    "df['after'] = np.where(df['dt'] > '2024-01-15', 1, 0)\n",
    "\n",
    "# pre_post data\n",
    "df_pre_post = (df # dataset\n",
    "               .groupby(['store_id','group','after']) # groupings\n",
    "               .sales.mean() # calculate sales means\n",
    "               .reset_index()\n",
    "               .pivot(index=['store_id', 'group'], columns='after', values='sales') # pivot the data to put pre and post in columns\n",
    "               .reset_index()\n",
    "               .rename(columns={0:'pre', 1:'post'}) # rename\n",
    "               )\n",
    "\n",
    "# create col difference post-pre\n",
    "df_pre_post = df_pre_post.assign(dif_pp= df_pre_post.post - df_pre_post.pre)\n",
    "\n",
    "# View\n",
    "df_pre_post.head()"
   ]
  },
  {
   "cell_type": "code",
   "execution_count": null,
   "metadata": {},
   "outputs": [],
   "source": []
  }
 ],
 "metadata": {
  "kernelspec": {
   "display_name": "ab_testing",
   "language": "python",
   "name": "python3"
  },
  "language_info": {
   "codemirror_mode": {
    "name": "ipython",
    "version": 3
   },
   "file_extension": ".py",
   "mimetype": "text/x-python",
   "name": "python",
   "nbconvert_exporter": "python",
   "pygments_lexer": "ipython3",
   "version": "3.13.0"
  }
 },
 "nbformat": 4,
 "nbformat_minor": 2
}
